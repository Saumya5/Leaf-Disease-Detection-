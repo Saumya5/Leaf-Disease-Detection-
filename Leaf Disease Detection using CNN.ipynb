{
 "cells": [
  {
   "cell_type": "code",
   "execution_count": 4,
   "metadata": {},
   "outputs": [],
   "source": [
    "from tensorflow.compat.v1 import ConfigProto\n",
    "from tensorflow.compat.v1 import InteractiveSession"
   ]
  },
  {
   "cell_type": "code",
   "execution_count": 5,
   "metadata": {},
   "outputs": [],
   "source": [
    "config = ConfigProto()\n",
    "config.gpu_options.allow_growth = True\n",
    "session = InteractiveSession(config=config)"
   ]
  },
  {
   "cell_type": "code",
   "execution_count": 6,
   "metadata": {},
   "outputs": [],
   "source": [
    "from tensorflow.keras.models import Sequential\n",
    "from tensorflow.keras.layers import Conv2D\n",
    "from tensorflow.keras.layers import MaxPooling2D\n",
    "from tensorflow.keras.layers import Flatten\n",
    "from tensorflow.keras.layers import Dense\n",
    "from tensorflow.keras.preprocessing.image import ImageDataGenerator\n",
    "import tensorflow as tf\n",
    "tf.compat.v1.disable_eager_execution()\n",
    "import matplotlib.pyplot as plt\n",
    "import numpy as np\n",
    "import os"
   ]
  },
  {
   "cell_type": "code",
   "execution_count": 7,
   "metadata": {},
   "outputs": [],
   "source": [
    "classifier = Sequential()"
   ]
  },
  {
   "cell_type": "code",
   "execution_count": 8,
   "metadata": {},
   "outputs": [],
   "source": [
    "classifier.add(Conv2D(32, (3, 3), input_shape = (128, 128, 3), activation = 'relu'))"
   ]
  },
  {
   "cell_type": "code",
   "execution_count": 9,
   "metadata": {},
   "outputs": [],
   "source": [
    "classifier.add(MaxPooling2D(pool_size = (2, 2)))"
   ]
  },
  {
   "cell_type": "code",
   "execution_count": 10,
   "metadata": {},
   "outputs": [],
   "source": [
    "classifier.add(Conv2D(32, (3, 3), activation = 'relu'))\n",
    "classifier.add(MaxPooling2D(pool_size = (2, 2)))"
   ]
  },
  {
   "cell_type": "code",
   "execution_count": 11,
   "metadata": {},
   "outputs": [],
   "source": [
    "classifier.add(Flatten())"
   ]
  },
  {
   "cell_type": "code",
   "execution_count": 12,
   "metadata": {},
   "outputs": [],
   "source": [
    "classifier.add(Dense(units = 128, activation = 'relu'))\n",
    "classifier.add(Dense(units = 10, activation = 'sigmoid'))"
   ]
  },
  {
   "cell_type": "code",
   "execution_count": 13,
   "metadata": {},
   "outputs": [],
   "source": [
    "classifier.compile(optimizer = 'adam', loss = 'categorical_crossentropy', metrics = ['accuracy'])"
   ]
  },
  {
   "cell_type": "code",
   "execution_count": 14,
   "metadata": {},
   "outputs": [],
   "source": [
    "train_datagen = ImageDataGenerator(rescale = 1./255, shear_range = 0.2, zoom_range = 0.2, horizontal_flip = True)"
   ]
  },
  {
   "cell_type": "code",
   "execution_count": 15,
   "metadata": {},
   "outputs": [],
   "source": [
    "test_datagen = ImageDataGenerator(rescale = 1./255)"
   ]
  },
  {
   "cell_type": "code",
   "execution_count": 18,
   "metadata": {},
   "outputs": [
    {
     "name": "stdout",
     "output_type": "stream",
     "text": [
      "Found 143 images belonging to 10 classes.\n"
     ]
    }
   ],
   "source": [
    "\n",
    "training_set = train_datagen.flow_from_directory('C:/Users/LENOVO/Downloads/Plant-Leaf-Disease-Prediction-main/Plant-Leaf-Disease-Prediction-main/Dataset/train', # relative path from working directoy\n",
    "                                                 target_size = (128, 128),\n",
    "                                                 batch_size = 6, class_mode = 'categorical')"
   ]
  },
  {
   "cell_type": "code",
   "execution_count": 19,
   "metadata": {},
   "outputs": [
    {
     "name": "stdout",
     "output_type": "stream",
     "text": [
      "Found 52 images belonging to 10 classes.\n"
     ]
    }
   ],
   "source": [
    "valid_set = test_datagen.flow_from_directory('C:/Users/LENOVO/Downloads/Plant-Leaf-Disease-Prediction-main/Plant-Leaf-Disease-Prediction-main/Dataset/val', # relative path from working directoy\n",
    "                                             target_size = (128, 128), \n",
    "                                        batch_size = 3, class_mode = 'categorical')"
   ]
  },
  {
   "cell_type": "code",
   "execution_count": 20,
   "metadata": {},
   "outputs": [
    {
     "name": "stdout",
     "output_type": "stream",
     "text": [
      "{'Tomato - Bacterial_spot': 0, 'Tomato - Early_blight': 1, 'Tomato - Healthy': 2, 'Tomato - Late_blight': 3, 'Tomato - Leaf_Mold': 4, 'Tomato - Septoria_leaf_spot': 5, 'Tomato - Target_Spot': 6, 'Tomato - Tomato_Yellow_Leaf_Curl_Virus': 7, 'Tomato - Tomato_mosaic_virus': 8, 'Tomato - Two-spotted_spider_mite': 9}\n"
     ]
    }
   ],
   "source": [
    "labels = (training_set.class_indices)\n",
    "print(labels)"
   ]
  },
  {
   "cell_type": "code",
   "execution_count": 24,
   "metadata": {},
   "outputs": [
    {
     "name": "stderr",
     "output_type": "stream",
     "text": [
      "<ipython-input-24-9627b6904c58>:1: UserWarning: `model.fit_generator` is deprecated and will be removed in a future version. Please use `Model.fit`, which supports generators.\n",
      "  classifier.fit_generator(training_set,\n"
     ]
    },
    {
     "name": "stdout",
     "output_type": "stream",
     "text": [
      "Epoch 1/50\n",
      "20/20 [==============================] - ETA: 0s - batch: 9.5000 - size: 5.9500 - loss: 2.4028 - accuracy: 0.0588"
     ]
    },
    {
     "name": "stderr",
     "output_type": "stream",
     "text": [
      "C:\\Users\\LENOVO\\anaconda3\\lib\\site-packages\\keras\\engine\\training_v1.py:2045: UserWarning: `Model.state_updates` will be removed in a future version. This property should not be used in TensorFlow 2.0, as `updates` are applied automatically.\n",
      "  updates = self.state_updates\n"
     ]
    },
    {
     "name": "stdout",
     "output_type": "stream",
     "text": [
      "20/20 [==============================] - 7s 184ms/step - batch: 9.5000 - size: 5.9500 - loss: 2.4028 - accuracy: 0.0588 - val_loss: 2.2971 - val_accuracy: 0.1154\n",
      "Epoch 2/50\n",
      "20/20 [==============================] - 3s 166ms/step - batch: 9.5000 - size: 5.9500 - loss: 2.3017 - accuracy: 0.1429 - val_loss: 2.2862 - val_accuracy: 0.1154\n",
      "Epoch 3/50\n",
      "20/20 [==============================] - 3s 154ms/step - batch: 9.5000 - size: 6.0000 - loss: 2.2582 - accuracy: 0.1917 - val_loss: 2.3454 - val_accuracy: 0.1154\n",
      "Epoch 4/50\n",
      "20/20 [==============================] - 3s 164ms/step - batch: 9.5000 - size: 5.9500 - loss: 2.2077 - accuracy: 0.2017 - val_loss: 2.4872 - val_accuracy: 0.2115\n",
      "Epoch 5/50\n",
      "20/20 [==============================] - 3s 153ms/step - batch: 9.5000 - size: 5.9500 - loss: 2.0405 - accuracy: 0.3445 - val_loss: 2.1661 - val_accuracy: 0.1923\n",
      "Epoch 6/50\n",
      "20/20 [==============================] - 3s 153ms/step - batch: 9.5000 - size: 5.9500 - loss: 1.8492 - accuracy: 0.4034 - val_loss: 2.2138 - val_accuracy: 0.3846\n",
      "Epoch 7/50\n",
      "20/20 [==============================] - 3s 152ms/step - batch: 9.5000 - size: 5.9500 - loss: 1.4991 - accuracy: 0.5126 - val_loss: 2.1069 - val_accuracy: 0.3846\n",
      "Epoch 8/50\n",
      "20/20 [==============================] - 3s 158ms/step - batch: 9.5000 - size: 5.9500 - loss: 1.1732 - accuracy: 0.5714 - val_loss: 2.4158 - val_accuracy: 0.3269\n",
      "Epoch 9/50\n",
      "20/20 [==============================] - 4s 194ms/step - batch: 9.5000 - size: 5.9500 - loss: 1.3851 - accuracy: 0.5630 - val_loss: 2.6307 - val_accuracy: 0.4038\n",
      "Epoch 10/50\n",
      "20/20 [==============================] - 3s 154ms/step - batch: 9.5000 - size: 5.9500 - loss: 1.3069 - accuracy: 0.5966 - val_loss: 2.5665 - val_accuracy: 0.4038\n",
      "Epoch 11/50\n",
      "20/20 [==============================] - 3s 154ms/step - batch: 9.5000 - size: 6.0000 - loss: 0.9759 - accuracy: 0.6667 - val_loss: 2.4085 - val_accuracy: 0.5192\n",
      "Epoch 12/50\n",
      "20/20 [==============================] - 3s 152ms/step - batch: 9.5000 - size: 5.9500 - loss: 0.7468 - accuracy: 0.7479 - val_loss: 2.4818 - val_accuracy: 0.5769\n",
      "Epoch 13/50\n",
      "20/20 [==============================] - 3s 165ms/step - batch: 9.5000 - size: 6.0000 - loss: 0.5856 - accuracy: 0.8417 - val_loss: 2.6896 - val_accuracy: 0.5385\n",
      "Epoch 14/50\n",
      "20/20 [==============================] - 3s 167ms/step - batch: 9.5000 - size: 5.9500 - loss: 0.8195 - accuracy: 0.7143 - val_loss: 2.4037 - val_accuracy: 0.5769\n",
      "Epoch 15/50\n",
      "20/20 [==============================] - 3s 156ms/step - batch: 9.5000 - size: 5.9500 - loss: 0.5345 - accuracy: 0.8235 - val_loss: 2.9155 - val_accuracy: 0.5577\n",
      "Epoch 16/50\n",
      "20/20 [==============================] - 3s 151ms/step - batch: 9.5000 - size: 5.9000 - loss: 0.5723 - accuracy: 0.8390 - val_loss: 2.5972 - val_accuracy: 0.5769\n",
      "Epoch 17/50\n",
      "20/20 [==============================] - 3s 154ms/step - batch: 9.5000 - size: 6.0000 - loss: 0.5884 - accuracy: 0.8417 - val_loss: 2.2334 - val_accuracy: 0.6538\n",
      "Epoch 18/50\n",
      "20/20 [==============================] - 3s 151ms/step - batch: 9.5000 - size: 5.9500 - loss: 0.3934 - accuracy: 0.8824 - val_loss: 2.8249 - val_accuracy: 0.5192\n",
      "Epoch 19/50\n",
      "20/20 [==============================] - 3s 164ms/step - batch: 9.5000 - size: 5.9500 - loss: 0.4091 - accuracy: 0.8908 - val_loss: 2.8577 - val_accuracy: 0.5962\n",
      "Epoch 20/50\n",
      "20/20 [==============================] - 4s 179ms/step - batch: 9.5000 - size: 6.0000 - loss: 0.3055 - accuracy: 0.9417 - val_loss: 3.4176 - val_accuracy: 0.5385\n",
      "Epoch 21/50\n",
      "20/20 [==============================] - 3s 153ms/step - batch: 9.5000 - size: 5.9500 - loss: 0.1821 - accuracy: 0.9412 - val_loss: 2.7711 - val_accuracy: 0.5962\n",
      "Epoch 22/50\n",
      "20/20 [==============================] - 3s 154ms/step - batch: 9.5000 - size: 5.9500 - loss: 0.2282 - accuracy: 0.9328 - val_loss: 2.6805 - val_accuracy: 0.6538\n",
      "Epoch 23/50\n",
      "20/20 [==============================] - 3s 153ms/step - batch: 9.5000 - size: 5.9500 - loss: 0.1587 - accuracy: 0.9580 - val_loss: 3.2653 - val_accuracy: 0.6346\n",
      "Epoch 24/50\n",
      "20/20 [==============================] - 3s 165ms/step - batch: 9.5000 - size: 5.9500 - loss: 0.2239 - accuracy: 0.9244 - val_loss: 3.8119 - val_accuracy: 0.5577\n",
      "Epoch 25/50\n",
      "20/20 [==============================] - 3s 159ms/step - batch: 9.5000 - size: 5.9500 - loss: 0.2263 - accuracy: 0.9328 - val_loss: 3.2785 - val_accuracy: 0.5385\n",
      "Epoch 26/50\n",
      "20/20 [==============================] - 3s 155ms/step - batch: 9.5000 - size: 5.9500 - loss: 0.1591 - accuracy: 0.9412 - val_loss: 2.8526 - val_accuracy: 0.6538\n",
      "Epoch 27/50\n",
      "20/20 [==============================] - 3s 155ms/step - batch: 9.5000 - size: 5.9500 - loss: 0.2293 - accuracy: 0.9160 - val_loss: 2.6910 - val_accuracy: 0.6538\n",
      "Epoch 28/50\n",
      "20/20 [==============================] - 3s 158ms/step - batch: 9.5000 - size: 6.0000 - loss: 0.2170 - accuracy: 0.9417 - val_loss: 3.6851 - val_accuracy: 0.6154\n",
      "Epoch 29/50\n",
      "20/20 [==============================] - 3s 164ms/step - batch: 9.5000 - size: 5.9500 - loss: 0.2849 - accuracy: 0.9076 - val_loss: 2.8970 - val_accuracy: 0.5962\n",
      "Epoch 30/50\n",
      "20/20 [==============================] - 3s 158ms/step - batch: 9.5000 - size: 5.9500 - loss: 0.2462 - accuracy: 0.9328 - val_loss: 3.1788 - val_accuracy: 0.6154\n",
      "Epoch 31/50\n",
      "20/20 [==============================] - 3s 155ms/step - batch: 9.5000 - size: 5.9500 - loss: 0.0922 - accuracy: 0.9580 - val_loss: 3.0385 - val_accuracy: 0.6538\n",
      "Epoch 32/50\n",
      "20/20 [==============================] - 3s 159ms/step - batch: 9.5000 - size: 6.0000 - loss: 0.1168 - accuracy: 0.9750 - val_loss: 2.9643 - val_accuracy: 0.6538\n",
      "Epoch 33/50\n",
      "20/20 [==============================] - 3s 155ms/step - batch: 9.5000 - size: 5.9500 - loss: 0.0724 - accuracy: 0.9832 - val_loss: 3.5130 - val_accuracy: 0.5769\n",
      "Epoch 34/50\n",
      "20/20 [==============================] - 3s 160ms/step - batch: 9.5000 - size: 5.9500 - loss: 0.1969 - accuracy: 0.9076 - val_loss: 3.8277 - val_accuracy: 0.5000\n",
      "Epoch 35/50\n",
      "20/20 [==============================] - 3s 166ms/step - batch: 9.5000 - size: 5.9500 - loss: 0.3184 - accuracy: 0.8908 - val_loss: 2.5954 - val_accuracy: 0.5577\n",
      "Epoch 36/50\n",
      "20/20 [==============================] - 3s 157ms/step - batch: 9.5000 - size: 5.9500 - loss: 0.1859 - accuracy: 0.9496 - val_loss: 2.8409 - val_accuracy: 0.5769\n",
      "Epoch 37/50\n",
      "20/20 [==============================] - 3s 168ms/step - batch: 9.5000 - size: 5.9500 - loss: 0.0862 - accuracy: 0.9832 - val_loss: 2.7496 - val_accuracy: 0.6154\n",
      "Epoch 38/50\n",
      "20/20 [==============================] - 3s 168ms/step - batch: 9.5000 - size: 5.9500 - loss: 0.0971 - accuracy: 0.9664 - val_loss: 3.0688 - val_accuracy: 0.5962\n",
      "Epoch 39/50\n",
      "20/20 [==============================] - 4s 193ms/step - batch: 9.5000 - size: 5.9500 - loss: 0.0511 - accuracy: 0.9916 - val_loss: 4.1197 - val_accuracy: 0.6154\n",
      "Epoch 40/50\n",
      "20/20 [==============================] - 4s 187ms/step - batch: 9.5000 - size: 5.9500 - loss: 0.1194 - accuracy: 0.9748 - val_loss: 2.7485 - val_accuracy: 0.6154\n",
      "Epoch 41/50\n",
      "20/20 [==============================] - 3s 175ms/step - batch: 9.5000 - size: 6.0000 - loss: 0.0983 - accuracy: 0.9667 - val_loss: 3.2932 - val_accuracy: 0.5962\n",
      "Epoch 42/50\n",
      "20/20 [==============================] - 3s 154ms/step - batch: 9.5000 - size: 5.9500 - loss: 0.0312 - accuracy: 0.9916 - val_loss: 3.5685 - val_accuracy: 0.6154\n",
      "Epoch 43/50\n",
      "20/20 [==============================] - 3s 172ms/step - batch: 9.5000 - size: 5.9500 - loss: 0.0142 - accuracy: 1.0000 - val_loss: 3.7071 - val_accuracy: 0.6154\n",
      "Epoch 44/50\n",
      "20/20 [==============================] - 3s 166ms/step - batch: 9.5000 - size: 5.9500 - loss: 0.0489 - accuracy: 0.9580 - val_loss: 3.6690 - val_accuracy: 0.6346\n",
      "Epoch 45/50\n",
      "20/20 [==============================] - 3s 151ms/step - batch: 9.5000 - size: 6.0000 - loss: 0.0854 - accuracy: 0.9750 - val_loss: 3.6139 - val_accuracy: 0.5577\n",
      "Epoch 46/50\n",
      "20/20 [==============================] - 3s 149ms/step - batch: 9.5000 - size: 5.9500 - loss: 0.1626 - accuracy: 0.9664 - val_loss: 3.4945 - val_accuracy: 0.5962\n",
      "Epoch 47/50\n",
      "20/20 [==============================] - 3s 153ms/step - batch: 9.5000 - size: 5.9500 - loss: 0.0623 - accuracy: 0.9748 - val_loss: 4.0844 - val_accuracy: 0.6346\n",
      "Epoch 48/50\n",
      "20/20 [==============================] - 3s 172ms/step - batch: 9.5000 - size: 5.9500 - loss: 0.2861 - accuracy: 0.8739 - val_loss: 3.2787 - val_accuracy: 0.6154\n",
      "Epoch 49/50\n",
      "20/20 [==============================] - 3s 175ms/step - batch: 9.5000 - size: 5.9500 - loss: 0.0987 - accuracy: 0.9832 - val_loss: 2.5420 - val_accuracy: 0.5962\n",
      "Epoch 50/50\n",
      "20/20 [==============================] - 3s 165ms/step - batch: 9.5000 - size: 6.0000 - loss: 0.0880 - accuracy: 0.9750 - val_loss: 4.4226 - val_accuracy: 0.5769\n"
     ]
    },
    {
     "data": {
      "text/plain": [
       "<keras.callbacks.History at 0x12fd546a2b0>"
      ]
     },
     "execution_count": 24,
     "metadata": {},
     "output_type": "execute_result"
    }
   ],
   "source": [
    "classifier.fit_generator(training_set,\n",
    "                         steps_per_epoch = 20,\n",
    "                         epochs = 50,\n",
    "                         validation_data=valid_set\n",
    "\n",
    "                         )"
   ]
  },
  {
   "cell_type": "code",
   "execution_count": 25,
   "metadata": {},
   "outputs": [
    {
     "name": "stdout",
     "output_type": "stream",
     "text": [
      "Saved model to disk\n"
     ]
    }
   ],
   "source": [
    "classifier_json=classifier.to_json()\n",
    "with open(\"model1.json\", \"w\") as json_file:\n",
    "    json_file.write(classifier_json)\n",
    "# serialize weights to HDF5\n",
    "    classifier.save_weights(\"my_model_weights.h5\")\n",
    "    classifier.save(\"model.h5\")                         #model.h5 is output file here , same as pkl file in classifier(5 not_5)\n",
    "    print(\"Saved model to disk\")"
   ]
  },
  {
   "cell_type": "code",
   "execution_count": null,
   "metadata": {},
   "outputs": [],
   "source": []
  },
  {
   "cell_type": "markdown",
   "metadata": {},
   "source": [
    "# Prediction Part(Testing)"
   ]
  },
  {
   "cell_type": "code",
   "execution_count": null,
   "metadata": {},
   "outputs": [],
   "source": [
    "'''\n",
    "import cv2                              #pip install opencv-python\n",
    "from matplotlib import pyplot as plt\n",
    "import os\n",
    "import numpy as np\n",
    "from tensorflow.keras.preprocessing.image import load_img\n",
    "from tensorflow.keras.preprocessing.image import img_to_array\n",
    "from tensorflow.keras.models import load_model\n",
    "'''"
   ]
  },
  {
   "cell_type": "code",
   "execution_count": null,
   "metadata": {},
   "outputs": [],
   "source": [
    "'''\n",
    "filepath = 'C:/Users/LENOVO/Downloads/Plant-Leaf-Disease-Prediction-main/Plant-Leaf-Disease-Prediction-main/model.h5'\n",
    "model = load_model(filepath)\n",
    "print(model)\n",
    "print(\"Model Loaded Successfully\")\n",
    "'''"
   ]
  },
  {
   "cell_type": "code",
   "execution_count": null,
   "metadata": {},
   "outputs": [],
   "source": [
    "'''\n",
    "tomato_plant = cv2.imread('C:/Users/LENOVO/Downloads/Plant-Leaf-Disease-Prediction-main/Plant-Leaf-Disease-Prediction-main/Dataset/test/Tomato___Bacterial_spot (1).JPG')\n",
    "test_image = cv2.resize(tomato_plant, (128,128)) # load image\n",
    "\n",
    "test_image = img_to_array(test_image)/255 # convert image to np array and normalize\n",
    "test_image = np.expand_dims(test_image, axis = 0) # change dimention 3D to 4D\n",
    "\n",
    "result = model.predict(test_image) # predict diseased plant or not\n",
    "\n",
    "pred = np.argmax(result, axis=1)\n",
    "print(pred)\n",
    "\n",
    "if pred==0:\n",
    "    print( \"Tomato - Bacteria Spot Disease\")\n",
    "       \n",
    "elif pred==1:\n",
    "    print(\"Tomato - Early Blight Disease\")\n",
    "        \n",
    "elif pred==2:\n",
    "    print(\"Tomato - Healthy and Fresh\")\n",
    "        \n",
    "elif pred==3:\n",
    "    print(\"Tomato - Late Blight Disease\")\n",
    "       \n",
    "elif pred==4:\n",
    "    print(\"Tomato - Leaf Mold Disease\")\n",
    "        \n",
    "elif pred==5:\n",
    "    print(\"Tomato - Septoria Leaf Spot Disease\")\n",
    "        \n",
    "elif pred==6:\n",
    "    print(\"Tomato - Target Spot Disease\")\n",
    "        \n",
    "elif pred==7:\n",
    "      print(\"Tomato - Tomoato Yellow Leaf Curl Virus Disease\")\n",
    "elif pred==8:\n",
    "      print(\"Tomato - Tomato Mosaic Virus Disease\")\n",
    "        \n",
    "elif pred==9:\n",
    "      print(\"Tomato - Two Spotted Spider Mite Disease\")\n",
    "   '''     \n",
    "        "
   ]
  },
  {
   "cell_type": "code",
   "execution_count": null,
   "metadata": {},
   "outputs": [],
   "source": []
  }
 ],
 "metadata": {
  "kernelspec": {
   "display_name": "Python 3",
   "language": "python",
   "name": "python3"
  },
  "language_info": {
   "codemirror_mode": {
    "name": "ipython",
    "version": 3
   },
   "file_extension": ".py",
   "mimetype": "text/x-python",
   "name": "python",
   "nbconvert_exporter": "python",
   "pygments_lexer": "ipython3",
   "version": "3.8.3"
  }
 },
 "nbformat": 4,
 "nbformat_minor": 4
}
